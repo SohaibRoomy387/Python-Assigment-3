{
 "cells": [
  {
   "cell_type": "code",
   "execution_count": 3,
   "id": "fd0095c7",
   "metadata": {},
   "outputs": [
    {
     "name": "stdout",
     "output_type": "stream",
     "text": [
      "Twinkle, twinkle, little star, \n",
      "\tHow I wonder what you are!\n",
      "\t\tUp above the world so high, \n",
      "\t\tLike a diamond in the sky. \n",
      "Twinkle, twinkle, little star, \n",
      "\tHow I wonder what you are!\n"
     ]
    }
   ],
   "source": [
    "#Answer#01\n",
    "\n",
    "#Twinkle, twinkle, little star,\n",
    "#         How I wonder what you are! \n",
    "#                Up above the world so high,   \n",
    "#                Like a diamond in the sky. \n",
    "#Twinkle, twinkle, little star, \n",
    "#         How I wonder what you are\n",
    "\n",
    "print(\"Twinkle, twinkle, little star, \\n\\tHow I wonder what you are!\\n\\t\\tUp above the world so high, \\n\\t\\tLike a diamond in the sky. \\nTwinkle, twinkle, little star, \\n\\tHow I wonder what you are!\")\n",
    "\n"
   ]
  },
  {
   "cell_type": "code",
   "execution_count": 6,
   "id": "4c7efa5c",
   "metadata": {},
   "outputs": [
    {
     "name": "stdout",
     "output_type": "stream",
     "text": [
      "Python version\n",
      "3.8.8 (default, Apr 13 2021, 15:08:03) [MSC v.1916 64 bit (AMD64)]\n",
      "Version info.\n",
      "sys.version_info(major=3, minor=8, micro=8, releaselevel='final', serial=0)\n"
     ]
    }
   ],
   "source": [
    "#Answer#02\n",
    "\n",
    "import sys\n",
    "print(\"Python version\");\n",
    "print (sys.version)\n",
    "print(\"Version info.\");\n",
    "print (sys.version_info);"
   ]
  },
  {
   "cell_type": "code",
   "execution_count": 7,
   "id": "d868f189",
   "metadata": {},
   "outputs": [
    {
     "name": "stdout",
     "output_type": "stream",
     "text": [
      "Current date and time : \n",
      "2021-10-21 09-20-27\n"
     ]
    }
   ],
   "source": [
    "#Answer#03\n",
    "\n",
    "import datetime\n",
    "now = datetime.datetime.now()\n",
    "print (\"Current date and time : \")\n",
    "print (now.strftime(\"2021-10-21 09-20-27\"))\n"
   ]
  },
  {
   "cell_type": "code",
   "execution_count": 8,
   "id": "2fa3fe1d",
   "metadata": {},
   "outputs": [
    {
     "name": "stdout",
     "output_type": "stream",
     "text": [
      "Input the radius of the circle : 100\n",
      "The area of the circle with radius 100.0 is: 314.1592653589793\n"
     ]
    }
   ],
   "source": [
    "#Answer#04\n",
    "\n",
    "from math import pi\n",
    "r = float(input (\"Input the radius of the circle : \"))\n",
    "print (\"The area of the circle with radius \" + str(r) + \" is: \" + str(pi * r**1))"
   ]
  },
  {
   "cell_type": "code",
   "execution_count": 9,
   "id": "4b3dcfef",
   "metadata": {},
   "outputs": [
    {
     "name": "stdout",
     "output_type": "stream",
     "text": [
      "Sohaib : Sohaib\n",
      "Roomy : Roomy\n",
      "Hello  Roomy Sohaib\n"
     ]
    }
   ],
   "source": [
    "#Answer#05\n",
    "\n",
    "firstname = input(\"Sohaib : \")\n",
    "lastname = input(\"Roomy : \")\n",
    "print (\"Hello  \" + lastname + \" \" + firstname); \n",
    " \n"
   ]
  },
  {
   "cell_type": "code",
   "execution_count": 10,
   "id": "2834560e",
   "metadata": {},
   "outputs": [
    {
     "name": "stdout",
     "output_type": "stream",
     "text": [
      "100: 100\n",
      "50: 50\n",
      "sum: 150\n"
     ]
    }
   ],
   "source": [
    "#Answer#06\n",
    "\n",
    "x = int(input(\"100: \"));\n",
    "y = int(input(\"50: \"));\n",
    " \n",
    "sum = x + y\n",
    " \n",
    "print(\"sum:\", sum );"
   ]
  },
  {
   "cell_type": "markdown",
   "id": "e690326c",
   "metadata": {},
   "source": [
    "\n",
    "    \n",
    "\n"
   ]
  },
  {
   "cell_type": "code",
   "execution_count": 11,
   "id": "7aecc4fc",
   "metadata": {},
   "outputs": [
    {
     "name": "stdout",
     "output_type": "stream",
     "text": [
      "Enter english marks40\n",
      "Enter islamiyat marks30\n",
      "Enter maths marks60\n",
      "Enter physics marks50\n",
      "Enter urdu marks70\n",
      "E\n"
     ]
    }
   ],
   "source": [
    "#Answer#07\n",
    "\n",
    "english = int(input(\"Enter english marks\")); \n",
    "islamiyat = int(input(\"Enter islamiyat marks\"));\n",
    "maths = int(input(\"Enter maths marks\"));\n",
    "physics = int(input(\"Enter physics marks\"));\n",
    "urdu = int(input(\"Enter urdu marks\"));\n",
    "total = 500;\n",
    "percent = (eng+isl+maths)/total*100;\n",
    "if percent < 100 and percent >= 80 :\n",
    "    print(\"A+\");\n",
    "elif percent < 80 and percent >= 70 :\n",
    "    print(\"A\");\n",
    "elif percent < 70 and percent >= 60 :\n",
    "    print(\"B\");\n",
    "elif percent < 60 and percent >= 50 :\n",
    "    print(\"C\");\n",
    "elif percent < 50 and percent >= 40 :\n",
    "    print(\"D\");\n",
    "elif percent < 40 and percent >= 33 :\n",
    "    print(\"E\");\n",
    "elif percent < 0 and percent >= 100 :\n",
    "    print(\"You didnot write correct percent\");\n",
    "else:\n",
    "    print(\"Fail\");\n",
    "    "
   ]
  },
  {
   "cell_type": "code",
   "execution_count": 14,
   "id": "afb2aa3b",
   "metadata": {},
   "outputs": [
    {
     "name": "stdout",
     "output_type": "stream",
     "text": [
      "5,4: 5\n",
      "5 is Odd\n"
     ]
    }
   ],
   "source": [
    "#Answer#08\n",
    "\n",
    "num = int(input(\"5,4: \"));\n",
    "if (num % 2) == 0:\n",
    "   print(\"{0} is Even\".format(num));\n",
    "else:\n",
    "   print(\"{0} is Odd\".format(num));\n",
    "\n"
   ]
  },
  {
   "cell_type": "code",
   "execution_count": 23,
   "id": "a9b835f9",
   "metadata": {},
   "outputs": [
    {
     "name": "stdout",
     "output_type": "stream",
     "text": [
      "Length of the input list:\n",
      "5\n"
     ]
    }
   ],
   "source": [
    "#Answer#09\n",
    "\n",
    "inp_lst = ['book','','pencel','pen' 'marker','highlighter']\n",
    "size = 0\n",
    "print(\"Length of the input list:\");\n",
    "for x in inp_lst:\n",
    "    size+=1\n",
    "print(size);"
   ]
  },
  {
   "cell_type": "code",
   "execution_count": 24,
   "id": "1026cc04",
   "metadata": {},
   "outputs": [
    {
     "name": "stdout",
     "output_type": "stream",
     "text": [
      "Sum of all elements in given list:  45\n"
     ]
    }
   ],
   "source": [
    "#Answer#10\n",
    "\n",
    "total = 0\n",
    " \n",
    "list1 = [0, 1, 2, 3, 4, 5, 6, 7, 8, 9]\n",
    " \n",
    "for ele in range(0, len(list1)):\n",
    "    total = total + list1[ele]\n",
    "print(\"Sum of all elements in given list: \", total)"
   ]
  },
  {
   "cell_type": "code",
   "execution_count": 25,
   "id": "d0e29139",
   "metadata": {},
   "outputs": [
    {
     "name": "stdout",
     "output_type": "stream",
     "text": [
      "2\n"
     ]
    }
   ],
   "source": [
    "#Answer#11\n",
    "\n",
    "def max_num_in_list( list ):\n",
    "    max = list[ 0 ]\n",
    "    for a in list:\n",
    "        if a > max:\n",
    "            max = a\n",
    "    return max\n",
    "print(max_num_in_list([1, 2, -8, 0]))"
   ]
  },
  {
   "cell_type": "code",
   "execution_count": 29,
   "id": "c58f3d49",
   "metadata": {},
   "outputs": [
    {
     "name": "stdout",
     "output_type": "stream",
     "text": [
      "1\n",
      "1\n",
      "2\n",
      "3\n"
     ]
    }
   ],
   "source": [
    "#Answer#12\n",
    "\n",
    "a = [1, 1, 2, 3, 5, 8, 13, 21, 34, 55, 89]\n",
    "\n",
    "for i in a:\n",
    "\n",
    "    if i < 5:\n",
    "\n",
    "        print(i)"
   ]
  },
  {
   "cell_type": "code",
   "execution_count": null,
   "id": "fec20fd5",
   "metadata": {},
   "outputs": [],
   "source": []
  }
 ],
 "metadata": {
  "kernelspec": {
   "display_name": "Python 3",
   "language": "python",
   "name": "python3"
  },
  "language_info": {
   "codemirror_mode": {
    "name": "ipython",
    "version": 3
   },
   "file_extension": ".py",
   "mimetype": "text/x-python",
   "name": "python",
   "nbconvert_exporter": "python",
   "pygments_lexer": "ipython3",
   "version": "3.8.8"
  }
 },
 "nbformat": 4,
 "nbformat_minor": 5
}
